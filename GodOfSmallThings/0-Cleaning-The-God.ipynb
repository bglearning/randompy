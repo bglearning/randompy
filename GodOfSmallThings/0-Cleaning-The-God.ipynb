{
 "cells": [
  {
   "cell_type": "markdown",
   "metadata": {},
   "source": [
    "## Cleaning *The God of Small Things*\n",
    "\n",
    "In this notebook, we preprocess the raw text in `data/gost_raw.txt` (extracted from the pdf).\n",
    "\n",
    "Not gonna be pretty but gotta do what you gotta do."
   ]
  },
  {
   "cell_type": "code",
   "execution_count": 1,
   "metadata": {},
   "outputs": [],
   "source": [
    "import nltk\n",
    "import pandas as pd"
   ]
  },
  {
   "cell_type": "code",
   "execution_count": 2,
   "metadata": {},
   "outputs": [],
   "source": [
    "def skip_line(line):\n",
    "    \"\"\"Determine whether to skip the line or not.\n",
    "    \"\"\"\n",
    "    # If line empty, skip line\n",
    "    if len(line.strip()) == 0:\n",
    "        return True\n",
    "    \n",
    "    # This is actually fine. Part of the actual text.\n",
    "    if 'The God of Small Things.' in line:\n",
    "        return False\n",
    "    \n",
    "    # Any of these phrases in the line means we can skip the line\n",
    "    indicator_phrases = [\n",
    "       'Collected & Compiled by Shashank A Sinha/GTS/CSC',\n",
    "       'Exclusive for News & Views Readers',\n",
    "       'The God of Small Things'\n",
    "    ]\n",
    "    return any(ip in line for ip in indicator_phrases)"
   ]
  },
  {
   "cell_type": "code",
   "execution_count": 3,
   "metadata": {},
   "outputs": [],
   "source": [
    "chapter_texts = []\n",
    "chapters = []\n",
    "with open('data/gost_raw.txt', 'r') as f:\n",
    "    lines = []\n",
    "    collecting_chapter = False\n",
    "    for line in f:\n",
    "        if skip_line(line):\n",
    "            continue\n",
    "        if line.startswith('Chapter'):\n",
    "            # The next line is the Chapter Title\n",
    "            chapters.append(next(f).replace('\\n', ''))\n",
    "            # If we have been collecting the chapter lines\n",
    "            if collecting_chapter:\n",
    "                chapter_texts.append(' '.join(lines).replace('\\n', ' '))\n",
    "            # Reset lines\n",
    "            lines = []\n",
    "            collecting_chapter = True\n",
    "            continue\n",
    "        lines.append(line)\n",
    "    # Last Chapter\n",
    "    chapter_texts.append(' '.join(lines))"
   ]
  },
  {
   "cell_type": "markdown",
   "metadata": {},
   "source": [
    "Quick check on the Chapter count."
   ]
  },
  {
   "cell_type": "code",
   "execution_count": 4,
   "metadata": {},
   "outputs": [
    {
     "name": "stdout",
     "output_type": "stream",
     "text": [
      "21\n",
      "21\n"
     ]
    }
   ],
   "source": [
    "print(len(chapters))\n",
    "print(len(chapter_texts))"
   ]
  },
  {
   "cell_type": "markdown",
   "metadata": {},
   "source": [
    "And the chapters themselves."
   ]
  },
  {
   "cell_type": "code",
   "execution_count": 5,
   "metadata": {},
   "outputs": [
    {
     "data": {
      "text/plain": [
       "['Paradise Pickles & Preserves',\n",
       " 'Pappachi’s Moth',\n",
       " 'Big Man the Laltain, Small Man the Mombatti',\n",
       " 'Abhilash Talkies',\n",
       " 'God’s Own Country',\n",
       " 'Cochin Kangaroos',\n",
       " 'Wisdom Exercise Notebooks',\n",
       " 'Welcome Home, Our Sophie Mol',\n",
       " 'Mrs. Pillai, Mrs. Eapen, Mrs. Rajagopalan',\n",
       " 'The River in the Boat',\n",
       " 'The God of Small Things',\n",
       " 'Kochu Thomban',\n",
       " 'The Pessimist and the Optimist',\n",
       " 'Work is Struggle',\n",
       " 'The Crossing',\n",
       " 'A Few Hours Later',\n",
       " 'Cochin Harbor Terminus',\n",
       " 'The History House',\n",
       " 'Saving Ammu',\n",
       " 'The Madras Mail',\n",
       " 'The Cost of Living']"
      ]
     },
     "execution_count": 5,
     "metadata": {},
     "output_type": "execute_result"
    }
   ],
   "source": [
    "chapters"
   ]
  },
  {
   "cell_type": "markdown",
   "metadata": {},
   "source": [
    "Right now, the chapter text is a big string."
   ]
  },
  {
   "cell_type": "code",
   "execution_count": 6,
   "metadata": {},
   "outputs": [
    {
     "data": {
      "text/plain": [
       "'May in Ayemenem is a hot, brooding month. The days are long and humid. The river shrinks  and black '"
      ]
     },
     "execution_count": 6,
     "metadata": {},
     "output_type": "execute_result"
    }
   ],
   "source": [
    "#First 100 characters of Chapter 1\n",
    "chapter_texts[0][:100]"
   ]
  },
  {
   "cell_type": "markdown",
   "metadata": {},
   "source": [
    "Let's split it into sentences and create a DataFrame."
   ]
  },
  {
   "cell_type": "code",
   "execution_count": 7,
   "metadata": {},
   "outputs": [],
   "source": [
    "frames = []\n",
    "for i, (chapter_title, chapter_text) in enumerate(zip(chapters, chapter_texts)):\n",
    "    sentences = nltk.sent_tokenize(chapter_text)\n",
    "    chapter_df = pd.DataFrame({'Sentence': sentences, \n",
    "                               'ChapterNum': i + 1, \n",
    "                               'ChapterTitle': chapter_title})\n",
    "    frames.append(chapter_df)\n",
    "df = pd.concat(frames).reset_index(drop=True)"
   ]
  },
  {
   "cell_type": "code",
   "execution_count": 8,
   "metadata": {},
   "outputs": [
    {
     "data": {
      "text/plain": [
       "(8529, 3)"
      ]
     },
     "execution_count": 8,
     "metadata": {},
     "output_type": "execute_result"
    }
   ],
   "source": [
    "df.shape"
   ]
  },
  {
   "cell_type": "code",
   "execution_count": 9,
   "metadata": {},
   "outputs": [
    {
     "data": {
      "text/html": [
       "<div>\n",
       "<style scoped>\n",
       "    .dataframe tbody tr th:only-of-type {\n",
       "        vertical-align: middle;\n",
       "    }\n",
       "\n",
       "    .dataframe tbody tr th {\n",
       "        vertical-align: top;\n",
       "    }\n",
       "\n",
       "    .dataframe thead th {\n",
       "        text-align: right;\n",
       "    }\n",
       "</style>\n",
       "<table border=\"1\" class=\"dataframe\">\n",
       "  <thead>\n",
       "    <tr style=\"text-align: right;\">\n",
       "      <th></th>\n",
       "      <th>ChapterNum</th>\n",
       "      <th>ChapterTitle</th>\n",
       "      <th>Sentence</th>\n",
       "    </tr>\n",
       "  </thead>\n",
       "  <tbody>\n",
       "    <tr>\n",
       "      <th>0</th>\n",
       "      <td>1</td>\n",
       "      <td>Paradise Pickles &amp; Preserves</td>\n",
       "      <td>May in Ayemenem is a hot, brooding month.</td>\n",
       "    </tr>\n",
       "    <tr>\n",
       "      <th>1</th>\n",
       "      <td>1</td>\n",
       "      <td>Paradise Pickles &amp; Preserves</td>\n",
       "      <td>The days are long and humid.</td>\n",
       "    </tr>\n",
       "    <tr>\n",
       "      <th>2</th>\n",
       "      <td>1</td>\n",
       "      <td>Paradise Pickles &amp; Preserves</td>\n",
       "      <td>The river shrinks  and black crows gorge on br...</td>\n",
       "    </tr>\n",
       "    <tr>\n",
       "      <th>3</th>\n",
       "      <td>1</td>\n",
       "      <td>Paradise Pickles &amp; Preserves</td>\n",
       "      <td>Red bananas ripen.</td>\n",
       "    </tr>\n",
       "    <tr>\n",
       "      <th>4</th>\n",
       "      <td>1</td>\n",
       "      <td>Paradise Pickles &amp; Preserves</td>\n",
       "      <td>Jackfruits  burst.</td>\n",
       "    </tr>\n",
       "  </tbody>\n",
       "</table>\n",
       "</div>"
      ],
      "text/plain": [
       "   ChapterNum                  ChapterTitle  \\\n",
       "0           1  Paradise Pickles & Preserves   \n",
       "1           1  Paradise Pickles & Preserves   \n",
       "2           1  Paradise Pickles & Preserves   \n",
       "3           1  Paradise Pickles & Preserves   \n",
       "4           1  Paradise Pickles & Preserves   \n",
       "\n",
       "                                            Sentence  \n",
       "0          May in Ayemenem is a hot, brooding month.  \n",
       "1                       The days are long and humid.  \n",
       "2  The river shrinks  and black crows gorge on br...  \n",
       "3                                 Red bananas ripen.  \n",
       "4                                 Jackfruits  burst.  "
      ]
     },
     "execution_count": 9,
     "metadata": {},
     "output_type": "execute_result"
    }
   ],
   "source": [
    "df.head()"
   ]
  },
  {
   "cell_type": "markdown",
   "metadata": {},
   "source": [
    "Nice! We have the sentences in a DataFrame.\n",
    "\n",
    "Let's save it for later analysis."
   ]
  },
  {
   "cell_type": "code",
   "execution_count": 10,
   "metadata": {},
   "outputs": [],
   "source": [
    "df.to_csv('data/Gost_sentences.csv', index=False)"
   ]
  },
  {
   "cell_type": "markdown",
   "metadata": {},
   "source": [
    "That's it for now. "
   ]
  }
 ],
 "metadata": {
  "kernelspec": {
   "display_name": "Python 3",
   "language": "python",
   "name": "python3"
  },
  "language_info": {
   "codemirror_mode": {
    "name": "ipython",
    "version": 3
   },
   "file_extension": ".py",
   "mimetype": "text/x-python",
   "name": "python",
   "nbconvert_exporter": "python",
   "pygments_lexer": "ipython3",
   "version": "3.6.5"
  }
 },
 "nbformat": 4,
 "nbformat_minor": 2
}
