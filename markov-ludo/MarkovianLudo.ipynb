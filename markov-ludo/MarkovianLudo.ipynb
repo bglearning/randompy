{
 "cells": [
  {
   "cell_type": "markdown",
   "metadata": {},
   "source": [
    "# Ludo as a Markov Chain"
   ]
  },
  {
   "cell_type": "markdown",
   "metadata": {},
   "source": [
    "The board game of <a href=\"https://en.wikipedia.org/wiki/Ludo_(board_game)\">Ludo</a> can be modeled as a first order [Markov Chain](https://en.wikipedia.org/wiki/Markov_chain) as it is \"memoryless\" i.e the next state only depends on the current state. Of course, we make some (big) assumptions to make it so.\n",
    "\n",
    "(Note: Pretty much all of this is based on the [Simulating Chutes and Ladders](https://jakevdp.github.io/blog/2017/12/18/simulating-chutes-and-ladders/) post by *Jake VanderPlas*.\n",
    "In fact, it's a way simpler treatment)."
   ]
  },
  {
   "cell_type": "markdown",
   "metadata": {},
   "source": [
    "Anyway, we'll make the following assumptions:\n",
    "\n",
    "- There's one player. Simplifies things greatly.\n",
    "- There's only one piece. (I'm really lazy :P)\n",
    "- Rolling a *One* moves the piece out of the yard onto the track. "
   ]
  },
  {
   "cell_type": "code",
   "execution_count": 1,
   "metadata": {},
   "outputs": [],
   "source": [
    "import numpy as np\n",
    "import matplotlib.pyplot as plt\n",
    "from matplotlib.pylab import rcParams"
   ]
  },
  {
   "cell_type": "code",
   "execution_count": 2,
   "metadata": {},
   "outputs": [],
   "source": [
    "rcParams['figure.figsize'] = 6, 6"
   ]
  },
  {
   "cell_type": "markdown",
   "metadata": {},
   "source": [
    "## The transition matrix\n",
    "\n",
    "A Markov Process can be entirely described using a transition matrix $S$ x $S$ transition matrix $M$ where $S$ is the number of states.\n",
    "\n",
    "Let $M_{ij}$ denote the transition probability from state $i$ to $j$ i.e row $i$ of $M$ is the transition probability when in state $i$.\n",
    "\n",
    "<img src=\"assets/Ludo_board.png\" alt=\"LudoBoard\" width=\"200\">\n",
    "\n",
    "Here, we have 58 states (56 cells on the track and one each for the yard and the finish state).\n",
    "\n",
    "When in the first state ($S_{0}$, the yard), the probability of rolling a *One*, $p(1)$ is the transition probability of moving to the track ($S_{1}$). $1 - p(1)$ is the probability of staying in the yard.\n",
    "\n",
    "For most of the track, we are always moving forward. How many cells forward is of course determined by the roll of the die. Towards the end, the piece can \"bounce back\" if we exceed the exact value required to reach home. We need to account for that.\n",
    "\n",
    "Finally, after we're at the last state (home), we stay there forever..."
   ]
  },
  {
   "cell_type": "code",
   "execution_count": 3,
   "metadata": {},
   "outputs": [],
   "source": [
    "def create_transition_matrix(die_prob=None):\n",
    "    # If the die's probability isn't provided, assume a fair die.\n",
    "    if die_prob is None:\n",
    "        die_prob = [1/6] * 6\n",
    "    elif not np.isclose(np.sum(die_prob), 1.0):\n",
    "        print(die_prob)\n",
    "        raise ValueError(\"Die Probability doesn't sum to 1.\")\n",
    "        \n",
    "    first_state = 0\n",
    "    last_state = 57\n",
    "    \n",
    "    # Initialize everything with zeros.\n",
    "    mat = np.zeros((58, 58))\n",
    "\n",
    "    # First state is the yard\n",
    "    mat[first_state][1] = die_prob[0]\n",
    "    mat[first_state][0] = 1 - die_prob[0]\n",
    "    \n",
    "    # For every other state apart from the last.\n",
    "    for s in range(1, last_state):\n",
    "        # For every possible die roll\n",
    "        for j in range(6):\n",
    "            next_state = s + j + 1\n",
    "            # Bounce back if necessary\n",
    "            if next_state > last_state:\n",
    "                next_state = last_state - (next_state - last_state)\n",
    "            mat[s][next_state] += die_prob[j]\n",
    "    \n",
    "    # Stay at the last state\n",
    "    mat[last_state][last_state] = 1.0\n",
    "    return mat"
   ]
  },
  {
   "cell_type": "markdown",
   "metadata": {},
   "source": [
    "Here's the matrix."
   ]
  },
  {
   "cell_type": "code",
   "execution_count": 4,
   "metadata": {},
   "outputs": [],
   "source": [
    "mat = create_transition_matrix()"
   ]
  },
  {
   "cell_type": "code",
   "execution_count": 5,
   "metadata": {},
   "outputs": [
    {
     "data": {
      "image/png": "[encoded data removed]",
      "text/plain": [
       "<Figure size 432x432 with 1 Axes>"
      ]
     },
     "metadata": {},
     "output_type": "display_data"
    }
   ],
   "source": [
    "plt.matshow(mat)\n",
    "plt.grid(False)\n",
    "plt.show()"
   ]
  },
  {
   "cell_type": "markdown",
   "metadata": {},
   "source": [
    "Nothing fancy.\n",
    "\n",
    "The top left (green) corner is the *waiting-for-the-one* zone. Can be frustrating. \n",
    "\n",
    "Most of the matrix is pretty bland. Towards the bottom right, we finally have some activity due to the chance of the piece \"bouncing\" back. \n",
    "\n",
    "Finally, the bottomest right is home. The game is over. "
   ]
  },
  {
   "cell_type": "markdown",
   "metadata": {},
   "source": [
    "## Getting the die rolling\n",
    "\n",
    "We need to define a state vector denoting the probability of being in any of the states. We start off with a vector whose first element is 1.0 and all others are zeros. \n",
    "\n",
    "We can then step through the game by repeatedly left multiplying the state vector with the transition matrix to get the new state vector. For n moves, this amounts to.\n",
    "\n",
    "$$\n",
    "w_{n} = w_{0}\\ M^{n}\n",
    "$$"
   ]
  },
  {
   "cell_type": "code",
   "execution_count": 6,
   "metadata": {},
   "outputs": [],
   "source": [
    "def compute_probability(mat, n):\n",
    "    w = np.zeros(len(mat))\n",
    "    w[0] = 1.0\n",
    "    final_w = np.dot(w, np.linalg.matrix_power(mat, n))\n",
    "    return final_w"
   ]
  },
  {
   "cell_type": "markdown",
   "metadata": {},
   "source": [
    "Let's simulate 80 moves. The probability of the last element of the state vector is the probability of the home state (i.e the end of the game)."
   ]
  },
  {
   "cell_type": "code",
   "execution_count": 7,
   "metadata": {},
   "outputs": [],
   "source": [
    "moves = np.arange(1, 81)\n",
    "probs = np.array([compute_probability(mat, i)[-1] for i in moves])"
   ]
  },
  {
   "cell_type": "code",
   "execution_count": 8,
   "metadata": {},
   "outputs": [
    {
     "data": {
      "image/png": "[encoded data removed]",
      "text/plain": [
       "<Figure size 432x432 with 1 Axes>"
      ]
     },
     "metadata": {},
     "output_type": "display_data"
    }
   ],
   "source": [
    "plt.plot(moves, probs)\n",
    "plt.title('Cumulative probability of game ending')\n",
    "plt.xlabel('Moves (n)')\n",
    "plt.show()"
   ]
  },
  {
   "cell_type": "code",
   "execution_count": 9,
   "metadata": {},
   "outputs": [
    {
     "data": {
      "image/png": "[encoded data removed]",
      "text/plain": [
       "<Figure size 432x432 with 1 Axes>"
      ]
     },
     "metadata": {},
     "output_type": "display_data"
    }
   ],
   "source": [
    "plt.plot(np.arange(1, 80), np.diff(probs))\n",
    "plt.title('Probability of game ending on nth move')\n",
    "plt.xlabel('Moves (n)')\n",
    "plt.show()"
   ]
  },
  {
   "cell_type": "markdown",
   "metadata": {},
   "source": [
    "## Some statistics"
   ]
  },
  {
   "cell_type": "markdown",
   "metadata": {},
   "source": [
    "###  Quickest Finish"
   ]
  },
  {
   "cell_type": "code",
   "execution_count": 10,
   "metadata": {},
   "outputs": [
    {
     "data": {
      "text/plain": [
       "11"
      ]
     },
     "execution_count": 10,
     "metadata": {},
     "output_type": "execute_result"
    }
   ],
   "source": [
    "moves[probs > 0][0]"
   ]
  },
  {
   "cell_type": "markdown",
   "metadata": {},
   "source": [
    "Given our construct of the game this is obvious. One move to get on the track and then 10 moves to cover the next 57 steps (say 9 sixes and a three). "
   ]
  },
  {
   "cell_type": "markdown",
   "metadata": {},
   "source": [
    "### Mean"
   ]
  },
  {
   "cell_type": "code",
   "execution_count": 11,
   "metadata": {},
   "outputs": [
    {
     "data": {
      "text/plain": [
       "25.753278735611076"
      ]
     },
     "execution_count": 11,
     "metadata": {},
     "output_type": "execute_result"
    }
   ],
   "source": [
    "np.dot(np.diff(probs), np.arange(1, len(probs)))"
   ]
  },
  {
   "cell_type": "markdown",
   "metadata": {},
   "source": [
    "On average, the game ends in ~26 moves."
   ]
  },
  {
   "cell_type": "markdown",
   "metadata": {},
   "source": [
    "### Median"
   ]
  },
  {
   "cell_type": "code",
   "execution_count": 12,
   "metadata": {},
   "outputs": [
    {
     "data": {
      "text/plain": [
       "24"
      ]
     },
     "execution_count": 12,
     "metadata": {},
     "output_type": "execute_result"
    }
   ],
   "source": [
    "np.searchsorted(probs, 0.5)"
   ]
  },
  {
   "cell_type": "markdown",
   "metadata": {},
   "source": [
    "So, approximately 50% of the games will be finished in fewer than 24 moves, 50% will be finished in more than 24 moves."
   ]
  },
  {
   "cell_type": "markdown",
   "metadata": {},
   "source": [
    "### Really unlucky"
   ]
  },
  {
   "cell_type": "code",
   "execution_count": 13,
   "metadata": {},
   "outputs": [
    {
     "data": {
      "text/plain": [
       "52"
      ]
     },
     "execution_count": 13,
     "metadata": {},
     "output_type": "execute_result"
    }
   ],
   "source": [
    "moves[probs > 0.99][0]"
   ]
  },
  {
   "cell_type": "markdown",
   "metadata": {},
   "source": [
    "52 moves in and still not finished? Really unlucky. "
   ]
  },
  {
   "cell_type": "markdown",
   "metadata": {},
   "source": [
    "## Gifing it up"
   ]
  },
  {
   "cell_type": "markdown",
   "metadata": {},
   "source": [
    "(Again, this section is heavily ~~copied~~ adapted from Jake's post).\n",
    "\n",
    "First, we need a method to reshape our probability to a matrix to be overlaid over the image. Not trivial.\n",
    "\n",
    "Could do manual mappings but we can do better. Specifically, for the cells apart from the first section and the final \"runway\", we will map to an inverted U strip and then rotate appropriately, assuming the center of the board is (0, 0). We'll then map that result back to the actual coordinate system with origin at the top left corner."
   ]
  },
  {
   "cell_type": "code",
   "execution_count": 14,
   "metadata": {},
   "outputs": [],
   "source": [
    "def reshape_probabilities(probs):\n",
    "    board_probs = np.zeros((15, 15))\n",
    "    \n",
    "    # Yard\n",
    "    board_probs[0:6, 0:6] = probs[0]\n",
    "    \n",
    "    # Opening Track\n",
    "    for i in range(1, 6):\n",
    "        board_probs[6][i] = probs[i]\n",
    "        \n",
    "    # Tracks before final runway\n",
    "    for i in range(6, 51):\n",
    "        adjusted = i - 6\n",
    "        rotation = int(adjusted / 13)\n",
    "        rem_index = adjusted % 13\n",
    "        \n",
    "        # Quadrant index\n",
    "        x = rem_index - 6\n",
    "        if x != 0:\n",
    "            x = x / abs(x)\n",
    "        y = 7 + abs(x) - abs(rem_index - 6)\n",
    "        \n",
    "        location = np.array([x, y])\n",
    "        \n",
    "        # Rotate quadrant index\n",
    "        clockwise_rotation = np.array([[0, -1], [1, 0]])\n",
    "        for r in range(rotation):\n",
    "            location = np.dot(location, clockwise_rotation)\n",
    "        \n",
    "        # Translate to be centered at top left     \n",
    "        final_x = int(location[1] * -1.0 + 7)\n",
    "        final_y = int(location[0] + 7)\n",
    "        board_probs[final_x][final_y] = probs[i]\n",
    "        \n",
    "    # Final Runway and home\n",
    "    for i in range(51, 58):\n",
    "        board_probs[7][i - 51] = probs[i]\n",
    "        \n",
    "    return board_probs"
   ]
  },
  {
   "cell_type": "code",
   "execution_count": 15,
   "metadata": {},
   "outputs": [
    {
     "data": {
      "text/plain": [
       "array([[1., 1., 1., 1., 1., 1., 1., 1., 1., 0., 0., 0., 0., 0., 0.],\n",
       "       [1., 1., 1., 1., 1., 1., 1., 0., 1., 0., 0., 0., 0., 0., 0.],\n",
       "       [1., 1., 1., 1., 1., 1., 1., 0., 1., 0., 0., 0., 0., 0., 0.],\n",
       "       [1., 1., 1., 1., 1., 1., 1., 0., 1., 0., 0., 0., 0., 0., 0.],\n",
       "       [1., 1., 1., 1., 1., 1., 1., 0., 1., 0., 0., 0., 0., 0., 0.],\n",
       "       [1., 1., 1., 1., 1., 1., 1., 0., 1., 0., 0., 0., 0., 0., 0.],\n",
       "       [0., 1., 1., 1., 1., 1., 0., 0., 0., 1., 1., 1., 1., 1., 1.],\n",
       "       [1., 1., 1., 1., 1., 1., 1., 0., 0., 0., 0., 0., 0., 0., 1.],\n",
       "       [1., 1., 1., 1., 1., 1., 0., 0., 0., 1., 1., 1., 1., 1., 1.],\n",
       "       [0., 0., 0., 0., 0., 0., 1., 0., 1., 0., 0., 0., 0., 0., 0.],\n",
       "       [0., 0., 0., 0., 0., 0., 1., 0., 1., 0., 0., 0., 0., 0., 0.],\n",
       "       [0., 0., 0., 0., 0., 0., 1., 0., 1., 0., 0., 0., 0., 0., 0.],\n",
       "       [0., 0., 0., 0., 0., 0., 1., 0., 1., 0., 0., 0., 0., 0., 0.],\n",
       "       [0., 0., 0., 0., 0., 0., 1., 0., 1., 0., 0., 0., 0., 0., 0.],\n",
       "       [0., 0., 0., 0., 0., 0., 1., 1., 1., 0., 0., 0., 0., 0., 0.]])"
      ]
     },
     "execution_count": 15,
     "metadata": {},
     "output_type": "execute_result"
    }
   ],
   "source": [
    "reshape_probabilities([1.0] * 58)"
   ]
  },
  {
   "cell_type": "code",
   "execution_count": 16,
   "metadata": {},
   "outputs": [],
   "source": [
    "from matplotlib import colors\n",
    "\n",
    "# Make a blue colorbar with increasing opacity\n",
    "c = np.zeros((100, 4))\n",
    "c[:, -1] = np.linspace(0, 1, 100)  # transparency gradient\n",
    "c[:, 2] = 0.5  # make the map dark blue\n",
    "TransparencyMap = colors.ListedColormap(c)        \n",
    "\n",
    "def show_board(mat, turn):\n",
    "    fig, ax = plt.subplots()\n",
    "    board = plt.imread('assets/Ludo_board_cropped.png')\n",
    "    \n",
    "    # Compute & reshape the probability vector\n",
    "    probs = compute_probability(mat, turn)\n",
    "    probs = reshape_probabilities(probs)\n",
    "    \n",
    "    # Show result over the image of the board\n",
    "    ax.imshow(board, alpha=0.8)\n",
    "    im = ax.imshow(probs, extent=[0, 720, 720, 0], \n",
    "                   norm=colors.LogNorm(vmin=1E-3, vmax=1), \n",
    "                   cmap=TransparencyMap)\n",
    "    fig.colorbar(im, ax=ax, label='Fraction of games')\n",
    "    ax.axis('off')\n",
    "    ax.set_title(f\"Turn {turn}\")\n",
    "    \n",
    "    return fig"
   ]
  },
  {
   "cell_type": "code",
   "execution_count": 17,
   "metadata": {},
   "outputs": [
    {
     "data": {
      "image/png": "[encoded data removed]",
      "text/plain": [
       "<Figure size 432x432 with 2 Axes>"
      ]
     },
     "metadata": {},
     "output_type": "display_data"
    }
   ],
   "source": [
    "show_board(mat, 2)\n",
    "plt.show()"
   ]
  },
  {
   "cell_type": "markdown",
   "metadata": {},
   "source": [
    "Let's create a gif!"
   ]
  },
  {
   "cell_type": "code",
   "execution_count": 18,
   "metadata": {},
   "outputs": [],
   "source": [
    "import imageio\n",
    "from io import BytesIO\n",
    "\n",
    "def make_gif(figures, filename, fps=10, **kwargs):\n",
    "    images = []\n",
    "    for fig in figures:\n",
    "        output = BytesIO()\n",
    "        fig.savefig(output)\n",
    "        plt.close(fig)  # close figure when we're finished to prevent matplotlib warnings\n",
    "        output.seek(0)\n",
    "        images.append(imageio.imread(output))\n",
    "    imageio.mimsave(filename, images, fps=fps, **kwargs)"
   ]
  },
  {
   "cell_type": "code",
   "execution_count": 19,
   "metadata": {},
   "outputs": [],
   "source": [
    "frames = [*range(50), *range(50, 101, 10)]\n",
    "sims = (show_board(mat, i) for i in frames)\n",
    "\n",
    "duration = np.zeros(len(frames))\n",
    "duration[:8] = 0.5\n",
    "duration[44:50]= 0.5\n",
    "duration[-1] = 1.0\n",
    "\n",
    "make_gif(sims, 'assets/Ludo-sim.gif', fps=8, duration=list(duration))"
   ]
  },
  {
   "cell_type": "markdown",
   "metadata": {},
   "source": [
    "Here's how it ends up.\n",
    "\n",
    "![Sim](assets/Ludo-sim.gif)"
   ]
  },
  {
   "cell_type": "markdown",
   "metadata": {},
   "source": [
    "## Changing the die"
   ]
  },
  {
   "cell_type": "markdown",
   "metadata": {},
   "source": [
    "Just for the heck of it, let's tamper with our die to change the probability of rolling a *One*."
   ]
  },
  {
   "cell_type": "code",
   "execution_count": 20,
   "metadata": {},
   "outputs": [],
   "source": [
    "# Rolling a one has 0.5 prob, others have only 0.1 each.\n",
    "mat = create_transition_matrix(die_prob=[5.0 / 10.0] + [1.0 / 10.0] * 5)"
   ]
  },
  {
   "cell_type": "code",
   "execution_count": 21,
   "metadata": {},
   "outputs": [
    {
     "data": {
      "text/plain": [
       "<matplotlib.image.AxesImage at 0x7fbb73454f98>"
      ]
     },
     "execution_count": 21,
     "metadata": {},
     "output_type": "execute_result"
    },
    {
     "data": {
      "image/png": "[encoded data removed]",
      "text/plain": [
       "<Figure size 432x432 with 1 Axes>"
      ]
     },
     "metadata": {},
     "output_type": "display_data"
    }
   ],
   "source": [
    "plt.matshow(mat)"
   ]
  },
  {
   "cell_type": "code",
   "execution_count": 22,
   "metadata": {},
   "outputs": [],
   "source": [
    "probs = np.array([compute_probability(mat, i)[-1] for i in np.arange(1, 81)])"
   ]
  },
  {
   "cell_type": "code",
   "execution_count": 23,
   "metadata": {},
   "outputs": [
    {
     "name": "stdout",
     "output_type": "stream",
     "text": [
      "Mean:  26.438432527301043\n",
      "Median:  26\n"
     ]
    }
   ],
   "source": [
    "print('Mean: ', np.dot(np.diff(probs), np.arange(1, len(probs))))\n",
    "print('Median: ', np.searchsorted(probs, 0.5))"
   ]
  },
  {
   "cell_type": "markdown",
   "metadata": {},
   "source": [
    "Increasing the probability of rolling a *One* to 0.5 actually increased the average length of the game i.e it was detrimental. There's a tradeoff here. Getting a one quickly gets us out on to the track quickly but then from there getting *One*s more often slows our pace.\n",
    "\n",
    "As our final act, let's visualize that tradeoff."
   ]
  },
  {
   "cell_type": "code",
   "execution_count": 24,
   "metadata": {},
   "outputs": [],
   "source": [
    "one_probs = np.arange(0.05, 1.0, 0.05)\n",
    "means = []\n",
    "medians = []\n",
    "for one_prob in one_probs:\n",
    "    die_prob = [one_prob] + [(1.0 - one_prob) / 5] * 5\n",
    "    mat = create_transition_matrix(die_prob=die_prob)\n",
    "    moves = np.arange(1, 201)\n",
    "    probs = np.array([compute_probability(mat, i)[-1] for i in moves])\n",
    "    means.append(np.dot(np.diff(probs), np.arange(1, len(probs))))\n",
    "    medians.append(np.searchsorted(probs, 0.5))"
   ]
  },
  {
   "cell_type": "code",
   "execution_count": 25,
   "metadata": {},
   "outputs": [
    {
     "data": {
      "image/png": "[encoded data removed]",
      "text/plain": [
       "<Figure size 432x432 with 1 Axes>"
      ]
     },
     "metadata": {},
     "output_type": "display_data"
    }
   ],
   "source": [
    "plt.plot(one_probs, means, color='r', label='Mean')\n",
    "plt.plot(one_probs, medians, color='g', label='Median')\n",
    "plt.title('\"Average\" moves by probability of rolling one')\n",
    "plt.xlabel('Prob(1)')\n",
    "plt.ylabel('Number of moves')\n",
    "plt.legend()\n",
    "plt.show()"
   ]
  },
  {
   "cell_type": "markdown",
   "metadata": {},
   "source": [
    "Looks like if we ever find ourselves in this kind of a ludo game with the ability to tamper with the die, we should make the probability of *One* to be ~0.3. Good to know! "
   ]
  },
  {
   "cell_type": "markdown",
   "metadata": {},
   "source": [
    "## Final Words\n",
    "\n",
    "This could probably be extended to the multiple pieces case or even the multiple player case if we place some constraints to retain the Markov property. But the number of states would probably be intractable enough to warrant running direct simulations instead. \n",
    "\n",
    "Anyway, this was fun."
   ]
  }
 ],
 "metadata": {
  "kernelspec": {
   "display_name": "Python 3",
   "language": "python",
   "name": "python3"
  },
  "language_info": {
   "codemirror_mode": {
    "name": "ipython",
    "version": 3
   },
   "file_extension": ".py",
   "mimetype": "text/x-python",
   "name": "python",
   "nbconvert_exporter": "python",
   "pygments_lexer": "ipython3",
   "version": "3.6.5"
  }
 },
 "nbformat": 4,
 "nbformat_minor": 2
}
